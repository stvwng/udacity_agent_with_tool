{
 "cells": [
  {
   "cell_type": "markdown",
   "id": "541a5c9c",
   "metadata": {},
   "source": [
    "# [STARTER] Exercise - Building an AI Agent with Tools\n",
    "\n",
    "In this exercise, you'll build an AI agent that can use tools to enhance its capabilities. You'll learn how to create an agent that can understand when to use tools, process their results, and maintain a coherent conversation."
   ]
  },
  {
   "cell_type": "markdown",
   "id": "0918d12a",
   "metadata": {},
   "source": [
    "## Challenge\n",
    "\n",
    "Imagine you're building a smart coding assistant that needs to:\n",
    "- Answer programming questions\n",
    "- Execute code snippets\n",
    "- Look up documentation\n",
    "- Perform calculations\n",
    "- Search through codebases\n",
    "\n",
    "Instead of hard-coding when to use each capability, your agent should intelligently decide when and how to use its available tools."
   ]
  },
  {
   "cell_type": "markdown",
   "id": "9b9c89db",
   "metadata": {},
   "source": [
    "## Setup\n",
    "First, let's import the necessary libraries:"
   ]
  },
  {
   "cell_type": "code",
   "execution_count": null,
   "id": "a220d2bf",
   "metadata": {},
   "outputs": [],
   "source": [
    "from typing import List, Dict, Any\n",
    "from dotenv import load_dotenv\n",
    "from copy import deepcopy\n",
    "import json\n",
    "\n",
    "from lib.messages import UserMessage, SystemMessage, ToolMessage\n",
    "from lib.tooling import tool\n",
    "from lib.llm import LLM"
   ]
  },
  {
   "cell_type": "markdown",
   "id": "a4cec412",
   "metadata": {},
   "source": [
    "## Understanding the Components\n",
    "\n",
    "Before we build our agent, let's understand the key components we'll be working with:\n",
    "\n",
    "- `LLM`: The language model wrapper that handles tool execution\n",
    "- `SystemMessage`: Defines the agent's role and behavior\n",
    "- `UserMessage`: Represents user inputs\n",
    "- `ToolMessage`: Contains tool execution results\n",
    "- `tool`: Decorator for creating tools"
   ]
  },
  {
   "cell_type": "markdown",
   "id": "a92058e5",
   "metadata": {},
   "source": [
    "## Building the Agent Class\n",
    "\n",
    "Your task is to create an Agent class that can:\n",
    "1. Initialize with a specific role and set of tools\n",
    "2. Process user messages\n",
    "3. Decide when to use tools\n",
    "4. Handle tool responses"
   ]
  },
  {
   "cell_type": "code",
   "execution_count": null,
   "id": "2f95460f",
   "metadata": {},
   "outputs": [],
   "source": [
    "class Agent:\n",
    "    \"\"\"An AI Agent that can use tools to help answer questions\"\"\"\n",
    "    \n",
    "    def __init__(\n",
    "        self,\n",
    "        role: str = \"Personal Assistant\",\n",
    "        instructions: str = \"Help users with any question\",\n",
    "        model: str = \"gpt-4o-mini\",\n",
    "        temperature: float = 0.0,\n",
    "        tools: List[Any] = None\n",
    "    ):\n",
    "        \"\"\"Initialize the agent with its configuration and tools\"\"\"\n",
    "        # TODO 1: Initialize the agent\n",
    "        # Hint: \n",
    "        # - Load environment variables with load_dotenv()\n",
    "        # - Store agent settings (role, instructions, etc.)\n",
    "        # - Create an LLM instance with the provided tools\n",
    "\n",
    "    def invoke(self, user_message: str) -> str:\n",
    "        \"\"\"Process a user message and return a response\"\"\"\n",
    "        # TODO 2: Set up the conversation\n",
    "        # Hint:\n",
    "        # - Create messages list with SystemMessage (role + instructions)\n",
    "        # - Add UserMessage with user_message\n",
    "        # - Get initial AI response using self.llm.invoke()\n",
    "\n",
    "        # TODO 3: Handle tool calls if needed\n",
    "        # Hint:\n",
    "        # - Check if ai_message.tool_calls exists\n",
    "        # - For each tool call:\n",
    "        #   * Get function name and arguments\n",
    "        #   * Execute tool and get result\n",
    "        #   * Add result as ToolMessage\n",
    "        # - Get final AI response\n",
    "        \n",
    "        return ai_message.content"
   ]
  },
  {
   "cell_type": "markdown",
   "id": "cda3c9b8",
   "metadata": {},
   "source": [
    "## Testing Your Agent\n",
    "\n",
    "Once you've implemented the Agent class, test it with different scenarios:"
   ]
  },
  {
   "cell_type": "markdown",
   "id": "0cef22d6",
   "metadata": {},
   "source": [
    "1. Basic conversation without tools"
   ]
  },
  {
   "cell_type": "code",
   "execution_count": null,
   "id": "5fdf9fa0",
   "metadata": {},
   "outputs": [],
   "source": [
    "agent = Agent(role=\"Coding Assistant\")\n",
    "response = agent.invoke(\"What is Python? Be concise\")\n",
    "print(response)"
   ]
  },
  {
   "cell_type": "markdown",
   "id": "661ec4ce",
   "metadata": {},
   "source": [
    "2. Create a calculator tool"
   ]
  },
  {
   "cell_type": "code",
   "execution_count": null,
   "id": "71c637de",
   "metadata": {},
   "outputs": [],
   "source": [
    "@tool\n",
    "def calculate(expression: str) -> float:\n",
    "    \"\"\"Evaluate a mathematical expression\"\"\"\n",
    "    return eval(expression)"
   ]
  },
  {
   "cell_type": "code",
   "execution_count": null,
   "id": "2e3204ef",
   "metadata": {},
   "outputs": [],
   "source": [
    "# Create an agent with the calculator tool\n",
    "math_agent = Agent(\n",
    "    role=\"Math Assistant\",\n",
    "    tools=[calculate]\n",
    ")"
   ]
  },
  {
   "cell_type": "code",
   "execution_count": null,
   "id": "437c9e3d",
   "metadata": {},
   "outputs": [],
   "source": [
    "response = math_agent.invoke(\"What is 23 * 45?\")\n",
    "print(response)"
   ]
  },
  {
   "cell_type": "code",
   "execution_count": null,
   "id": "2e1b6096",
   "metadata": {},
   "outputs": [],
   "source": [
    "# Test multiple tool usage\n",
    "response = math_agent.invoke(\"If I multiply 3 by 5, what do I get? Then later add 7\")\n",
    "print(response)"
   ]
  },
  {
   "cell_type": "markdown",
   "id": "e45fbf2c",
   "metadata": {},
   "source": [
    "3. Create a data analyst"
   ]
  },
  {
   "cell_type": "code",
   "execution_count": null,
   "id": "7b034a4e",
   "metadata": {},
   "outputs": [],
   "source": [
    "@tool\n",
    "def get_games(num_games:int=1, top:bool=True) -> str:\n",
    "    \"\"\"\n",
    "    Returns the top or bottom N games with highest or lowest scores.    \n",
    "    args:\n",
    "        num_games (int): Number of games to return (default is 1)\n",
    "        top (bool): If True, return top games, otherwise return bottom (default is True)\n",
    "    \"\"\"\n",
    "    data = [\n",
    "        {\"Game\": \"The Legend of Zelda: Breath of the Wild\", \"Platform\": \"Switch\", \"Score\": 98},\n",
    "        {\"Game\": \"Super Mario Odyssey\", \"Platform\": \"Switch\", \"Score\": 97},\n",
    "        {\"Game\": \"Metroid Prime\", \"Platform\": \"GameCube\", \"Score\": 97},\n",
    "        {\"Game\": \"Super Smash Bros. Brawl\", \"Platform\": \"Wii\", \"Score\": 93},\n",
    "        {\"Game\": \"Mario Kart 8 Deluxe\", \"Platform\": \"Switch\", \"Score\": 92},\n",
    "        {\"Game\": \"Fire Emblem: Awakening\", \"Platform\": \"3DS\", \"Score\": 92},\n",
    "        {\"Game\": \"Donkey Kong Country Returns\", \"Platform\": \"Wii\", \"Score\": 87},\n",
    "        {\"Game\": \"Luigi's Mansion 3\", \"Platform\": \"Switch\", \"Score\": 86},\n",
    "        {\"Game\": \"Pikmin 3\", \"Platform\": \"Wii U\", \"Score\": 85},\n",
    "        {\"Game\": \"Animal Crossing: New Leaf\", \"Platform\": \"3DS\", \"Score\": 88}\n",
    "    ]\n",
    "    # Sort the games list by Score\n",
    "    # If top is True, descending order\n",
    "    sorted_games = sorted(data, key=lambda x: x['Score'], reverse=top)\n",
    "    \n",
    "    # Return the N games\n",
    "    return sorted_games[:num_games]"
   ]
  },
  {
   "cell_type": "code",
   "execution_count": null,
   "id": "c47a77c8",
   "metadata": {},
   "outputs": [],
   "source": [
    "# Create an agent with the multiple tools\n",
    "data_analyst_agent = Agent(\n",
    "    role=\"Game Stats Assistant\",\n",
    "    instructions=\"You can bring insights about a game dataset based on users questions\",\n",
    "    tools=[get_games]\n",
    ")"
   ]
  },
  {
   "cell_type": "code",
   "execution_count": null,
   "id": "0139cdad",
   "metadata": {},
   "outputs": [],
   "source": [
    "response = data_analyst_agent.invoke(\"What's the best game in the dataset?\")\n",
    "print(response)"
   ]
  },
  {
   "cell_type": "code",
   "execution_count": null,
   "id": "84cdf1cd",
   "metadata": {},
   "outputs": [],
   "source": [
    "response = data_analyst_agent.invoke(\"What's the worst game in the dataset?\")\n",
    "print(response)"
   ]
  },
  {
   "cell_type": "code",
   "execution_count": null,
   "id": "baa27e07",
   "metadata": {},
   "outputs": [],
   "source": [
    "response = game_stats_agent.invoke(\"What is the average score?\")\n",
    "print(response)"
   ]
  },
  {
   "cell_type": "code",
   "execution_count": null,
   "id": "43c477b1",
   "metadata": {},
   "outputs": [],
   "source": [
    "response = game_stats_agent.invoke(\"What is the distribution of platforms?\")\n",
    "print(response)"
   ]
  }
 ],
 "metadata": {
  "kernelspec": {
   "display_name": ".venv",
   "language": "python",
   "name": "python3"
  },
  "language_info": {
   "codemirror_mode": {
    "name": "ipython",
    "version": 3
   },
   "file_extension": ".py",
   "mimetype": "text/x-python",
   "name": "python",
   "nbconvert_exporter": "python",
   "pygments_lexer": "ipython3",
   "version": "3.11.10"
  }
 },
 "nbformat": 4,
 "nbformat_minor": 5
}
