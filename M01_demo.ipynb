{
 "cells": [
  {
   "cell_type": "markdown",
   "metadata": {},
   "source": [
    "# Using Tools\n",
    "This notebook demonstrates how we can use tools to gather information and provide more accurate responses. We'll build a weather-checking mock as an example.\n",
    "\n",
    "## What we'll learn:\n",
    "- Basic interaction with Language Models (LLM)\n",
    "- How to create and use tools with AI\n",
    "- The complete flow of an AI agent using tools\n",
    "- Understanding the message flow in a tool-enabled conversation"
   ]
  },
  {
   "cell_type": "markdown",
   "metadata": {},
   "source": [
    "### Setup"
   ]
  },
  {
   "cell_type": "code",
   "execution_count": 1,
   "metadata": {},
   "outputs": [],
   "source": [
    "import json\n",
    "from lib.messages import UserMessage, SystemMessage, ToolMessage  # Different message types\n",
    "from lib.tooling import tool  # Tool decorator for creating AI tools\n",
    "from lib.llm import LLM  # Our Language Model wrapper"
   ]
  },
  {
   "cell_type": "code",
   "execution_count": 2,
   "metadata": {},
   "outputs": [],
   "source": [
    "chat_model = LLM()"
   ]
  },
  {
   "cell_type": "markdown",
   "metadata": {},
   "source": [
    "## Basic LLM Interaction\n",
    "Before we dive into tools, let's understand how to interact with our Language Model in its simplest form. \n",
    "There are two main ways to communicate with the model:"
   ]
  },
  {
   "cell_type": "code",
   "execution_count": 3,
   "metadata": {},
   "outputs": [
    {
     "name": "stdout",
     "output_type": "stream",
     "text": [
      "Single Query Response:\n",
      " An AI agent is a system or entity that uses artificial intelligence techniques to perceive its environment, make decisions, and take actions to achieve specific goals. AI agents can operate autonomously or semi-autonomously and can be found in various applications, ranging from simple rule-based systems to complex machine learning models.\n",
      "\n",
      "Key characteristics of AI agents include:\n",
      "\n",
      "1. **Perception**: AI agents can gather information from their environment through sensors or data inputs. This could involve processing visual data, audio signals, or other forms of input.\n",
      "\n",
      "2. **Decision-Making**: Based on the information they perceive, AI agents can analyze the data and make decisions. This can involve reasoning, planning, and learning from past experiences.\n",
      "\n",
      "3. **Action**: After making decisions, AI agents can take actions to interact with their environment. This could involve physical actions (like a robot moving) or digital actions (like sending a message or modifying data).\n",
      "\n",
      "4. **Autonomy**: Many AI agents operate with a degree of autonomy, meaning they can perform tasks without human intervention. However, the level of autonomy can vary widely depending on the design and purpose of the agent.\n",
      "\n",
      "5. **Goal-Oriented**: AI agents are typically designed to achieve specific objectives or goals, whether that be solving a problem, optimizing a process, or providing a service.\n",
      "\n",
      "AI agents can be classified into different types, such as:\n",
      "\n",
      "- **Reactive Agents**: These agents respond to specific stimuli in their environment without maintaining an internal state or memory.\n",
      "  \n",
      "- **Deliberative Agents**: These agents maintain an internal model of the world and can plan and reason about their actions over time.\n",
      "\n",
      "- **Learning Agents**: These agents can improve their performance over time by learning from experiences and adapting to new situations.\n",
      "\n",
      "Examples of AI agents include virtual assistants (like Siri or Alexa), autonomous vehicles, chatbots, recommendation systems, and game-playing AI. Each of these agents uses AI techniques to perform tasks and interact with users or their environment effectively.\n"
     ]
    }
   ],
   "source": [
    "# Method 1: Simple single-turn query\n",
    "response = chat_model.invoke(\"What is an AI Agent?\")\n",
    "print(\"Single Query Response:\\n\", response.content)"
   ]
  },
  {
   "cell_type": "code",
   "execution_count": 4,
   "metadata": {},
   "outputs": [
    {
     "name": "stdout",
     "output_type": "stream",
     "text": [
      "\n",
      "Structured Conversation Response:\n",
      " Function calling is a programming concept where a function (a block of code designed to perform a specific task) is executed or invoked in a program. When a function is called, the program temporarily transfers control to that function, executes its code, and then returns control back to the point where the function was called. \n",
      "\n",
      "### Key Concepts of Function Calling:\n",
      "\n",
      "1. **Function Definition**: Before a function can be called, it must be defined. This includes specifying the function's name, parameters (if any), and the code that will be executed.\n",
      "\n",
      "   ```python\n",
      "   def greet(name):\n",
      "       return f\"Hello, {name}!\"\n",
      "   ```\n",
      "\n",
      "2. **Function Call**: To execute the function, you use its name followed by parentheses. If the function requires parameters, you provide them within the parentheses.\n",
      "\n",
      "   ```python\n",
      "   message = greet(\"Alice\")\n",
      "   print(message)  # Output: Hello, Alice!\n",
      "   ```\n",
      "\n",
      "3. **Parameters and Arguments**: Functions can take parameters, which are variables that allow you to pass data into the function. The actual values you pass to the function are called arguments.\n",
      "\n",
      "4. **Return Value**: Functions can return a value using the `return` statement. If no return statement is provided, the function returns `None` by default in Python.\n",
      "\n",
      "5. **Scope**: Variables defined within a function are typically local to that function and cannot be accessed outside of it, unless they are returned or defined as global.\n",
      "\n",
      "6. **Recursion**: A function can call itself, which is known as recursion. This is often used for problems that can be broken down into smaller, similar problems.\n",
      "\n",
      "### Example in Python:\n",
      "\n",
      "```python\n",
      "def factorial(n):\n",
      "    if n == 0:\n",
      "        return 1\n",
      "    else:\n",
      "        return n * factorial(n - 1)\n",
      "\n",
      "result = factorial(5)\n",
      "print(result)  # Output: 120\n",
      "```\n",
      "\n",
      "In this example, the `factorial` function calls itself to compute the factorial of a number.\n",
      "\n",
      "### Importance of Function Calling:\n",
      "\n",
      "- **Code Reusability**: Functions allow you to write code once and reuse it multiple times, reducing redundancy.\n",
      "- **Modularity**: Functions help break down complex problems into smaller, manageable pieces.\n",
      "- **Maintainability**: Code is easier to read, understand, and maintain when organized into functions.\n",
      "\n",
      "Overall, function calling is a fundamental aspect of programming that enhances the structure and efficiency of code.\n"
     ]
    }
   ],
   "source": [
    "# Method 2: Multi-turn conversation with specific roles\n",
    "messages = [\n",
    "    SystemMessage(content=\"You're an OpenAI API specialist\"),\n",
    "    UserMessage(content=\"What is Function Calling?\")\n",
    "]\n",
    "response = chat_model.invoke(messages)\n",
    "print(\"\\nStructured Conversation Response:\\n\", response.content)"
   ]
  },
  {
   "cell_type": "markdown",
   "metadata": {},
   "source": [
    "## Building an AI Tool\n",
    "Now let's make our AI more capable by giving it a tool to check the weather. \n",
    "This demonstrates how we can extend AI capabilities beyond just conversation.\n",
    "\n",
    "### Understanding the Tool Structure:\n",
    "1. We use the `@tool` decorator to mark a function as an AI tool\n",
    "2. The tool needs clear documentation and typed parameters\n",
    "3. The tool should return structured data"
   ]
  },
  {
   "cell_type": "code",
   "execution_count": 5,
   "metadata": {},
   "outputs": [],
   "source": [
    "@tool\n",
    "def get_weather(city: str):\n",
    "    \"\"\"Get the current temperature for a city.\n",
    "    \n",
    "    Args:\n",
    "        city (str): Name of the city to check weather for\n",
    "        \n",
    "    Returns:\n",
    "        dict: Contains temperature information for the requested city\n",
    "    \"\"\"\n",
    "    # In a real application, this would call a weather API\n",
    "    mock_weather = {\n",
    "        \"São Paulo\": \"28°C\",\n",
    "        \"Oslo\": \"-3°C\",\n",
    "        \"New York\": \"15°C\",\n",
    "        \"Tokyo\": \"22°C\"\n",
    "    }\n",
    "    return {\"temperature\": mock_weather.get(city, \"Unknown\")}"
   ]
  },
  {
   "cell_type": "code",
   "execution_count": 6,
   "metadata": {},
   "outputs": [],
   "source": [
    "# Bind the tool to an LLM\n",
    "chat_model_with_tools = LLM(tools=[get_weather])"
   ]
  },
  {
   "cell_type": "markdown",
   "metadata": {},
   "source": [
    "## Understanding the Tool Usage Flow\n",
    "Let's break down how the AI uses tools step by step:\n",
    "\n",
    "1. User asks a question about weather\n",
    "2. AI recognizes the need to use the weather tool\n",
    "3. AI makes a tool call\n",
    "4. Tool executes and returns results\n",
    "5. AI processes the tool's response\n",
    "6. AI formulates a natural language response\n",
    "\n",
    "Let's see this in action:"
   ]
  },
  {
   "cell_type": "code",
   "execution_count": 7,
   "metadata": {},
   "outputs": [],
   "source": [
    "# Set up our system with clear instructions\n",
    "messages = [\n",
    "    SystemMessage(\n",
    "        content=\"You are a helpful assistant that can access a tool to get current temperature \" \n",
    "                \"for cities. Use the tool whenever someone asks about the weather or temperature \" \n",
    "                \"in a specific location. Infor the user if you don't know the answer.\"\n",
    "    ),\n",
    "    UserMessage(content=\"How cold is it in Oslo?\")\n",
    "]"
   ]
  },
  {
   "cell_type": "code",
   "execution_count": 8,
   "metadata": {},
   "outputs": [
    {
     "data": {
      "text/plain": [
       "AIMessage(content=None, role='assistant', tool_calls=[ChatCompletionMessageFunctionToolCall(id='call_vKy8GQ9XUgAyO0QLy76M6DDm', function=Function(arguments='{\"city\":\"Oslo\"}', name='get_weather'), type='function')])"
      ]
     },
     "execution_count": 8,
     "metadata": {},
     "output_type": "execute_result"
    }
   ],
   "source": [
    "# AI decides to use the weather tool\n",
    "ai_message = chat_model_with_tools.invoke(messages)\n",
    "ai_message"
   ]
  },
  {
   "cell_type": "code",
   "execution_count": 9,
   "metadata": {},
   "outputs": [
    {
     "data": {
      "text/plain": [
       "[SystemMessage(content=\"You are a helpful assistant that can access a tool to get current temperature for cities. Use the tool whenever someone asks about the weather or temperature in a specific location. Infor the user if you don't know the answer.\", role='system'),\n",
       " UserMessage(content='How cold is it in Oslo?', role='user'),\n",
       " AIMessage(content=None, role='assistant', tool_calls=[ChatCompletionMessageFunctionToolCall(id='call_vKy8GQ9XUgAyO0QLy76M6DDm', function=Function(arguments='{\"city\":\"Oslo\"}', name='get_weather'), type='function')])]"
      ]
     },
     "execution_count": 9,
     "metadata": {},
     "output_type": "execute_result"
    }
   ],
   "source": [
    "# Check messages structure\n",
    "messages.append(ai_message)\n",
    "messages"
   ]
  },
  {
   "cell_type": "code",
   "execution_count": 10,
   "metadata": {},
   "outputs": [
    {
     "data": {
      "text/plain": [
       "'call_vKy8GQ9XUgAyO0QLy76M6DDm'"
      ]
     },
     "execution_count": 10,
     "metadata": {},
     "output_type": "execute_result"
    }
   ],
   "source": [
    "# Tool call id will be required later when creating the ToolMessage\n",
    "tool_call_id = messages[-1].tool_calls[0].id\n",
    "tool_call_id"
   ]
  },
  {
   "cell_type": "code",
   "execution_count": 11,
   "metadata": {},
   "outputs": [
    {
     "data": {
      "text/plain": [
       "{'city': 'Oslo'}"
      ]
     },
     "execution_count": 11,
     "metadata": {},
     "output_type": "execute_result"
    }
   ],
   "source": [
    "# Extract the arguments\n",
    "args = json.loads(messages[-1].tool_calls[0].function.arguments)\n",
    "args"
   ]
  },
  {
   "cell_type": "code",
   "execution_count": 12,
   "metadata": {},
   "outputs": [
    {
     "data": {
      "text/plain": [
       "{'temperature': '-3°C'}"
      ]
     },
     "execution_count": 12,
     "metadata": {},
     "output_type": "execute_result"
    }
   ],
   "source": [
    "# Execute the tool with the AI's requested parameters\n",
    "tool_result = get_weather(**args)\n",
    "tool_result"
   ]
  },
  {
   "cell_type": "code",
   "execution_count": 13,
   "metadata": {},
   "outputs": [
    {
     "data": {
      "text/plain": [
       "ToolMessage(content='-3°C', role='tool', tool_call_id='call_vKy8GQ9XUgAyO0QLy76M6DDm', name='get_weather')"
      ]
     },
     "execution_count": 13,
     "metadata": {},
     "output_type": "execute_result"
    }
   ],
   "source": [
    "# Create a tool response message\n",
    "tool_message = ToolMessage(\n",
    "    content=tool_result[\"temperature\"], \n",
    "    tool_call_id=tool_call_id, \n",
    "    name=\"get_weather\"\n",
    ")\n",
    "tool_message"
   ]
  },
  {
   "cell_type": "code",
   "execution_count": 14,
   "metadata": {},
   "outputs": [
    {
     "data": {
      "text/plain": [
       "[SystemMessage(content=\"You are a helpful assistant that can access a tool to get current temperature for cities. Use the tool whenever someone asks about the weather or temperature in a specific location. Infor the user if you don't know the answer.\", role='system'),\n",
       " UserMessage(content='How cold is it in Oslo?', role='user'),\n",
       " AIMessage(content=None, role='assistant', tool_calls=[ChatCompletionMessageFunctionToolCall(id='call_vKy8GQ9XUgAyO0QLy76M6DDm', function=Function(arguments='{\"city\":\"Oslo\"}', name='get_weather'), type='function')]),\n",
       " ToolMessage(content='-3°C', role='tool', tool_call_id='call_vKy8GQ9XUgAyO0QLy76M6DDm', name='get_weather')]"
      ]
     },
     "execution_count": 14,
     "metadata": {},
     "output_type": "execute_result"
    }
   ],
   "source": [
    "# Check messages structure\n",
    "messages.append(tool_message)\n",
    "messages"
   ]
  },
  {
   "cell_type": "code",
   "execution_count": 15,
   "metadata": {},
   "outputs": [
    {
     "data": {
      "text/plain": [
       "AIMessage(content='The current temperature in Oslo is -3°C.', role='assistant', tool_calls=None)"
      ]
     },
     "execution_count": 15,
     "metadata": {},
     "output_type": "execute_result"
    }
   ],
   "source": [
    "# Let AI formulate final response\n",
    "ai_message = chat_model_with_tools.invoke(messages)\n",
    "ai_message"
   ]
  },
  {
   "cell_type": "code",
   "execution_count": 16,
   "metadata": {},
   "outputs": [
    {
     "data": {
      "text/plain": [
       "[SystemMessage(content=\"You are a helpful assistant that can access a tool to get current temperature for cities. Use the tool whenever someone asks about the weather or temperature in a specific location. Infor the user if you don't know the answer.\", role='system'),\n",
       " UserMessage(content='How cold is it in Oslo?', role='user'),\n",
       " AIMessage(content=None, role='assistant', tool_calls=[ChatCompletionMessageFunctionToolCall(id='call_vKy8GQ9XUgAyO0QLy76M6DDm', function=Function(arguments='{\"city\":\"Oslo\"}', name='get_weather'), type='function')]),\n",
       " ToolMessage(content='-3°C', role='tool', tool_call_id='call_vKy8GQ9XUgAyO0QLy76M6DDm', name='get_weather'),\n",
       " AIMessage(content='The current temperature in Oslo is -3°C.', role='assistant', tool_calls=None)]"
      ]
     },
     "execution_count": 16,
     "metadata": {},
     "output_type": "execute_result"
    }
   ],
   "source": [
    "# Check messages structure\n",
    "messages.append(ai_message)\n",
    "messages"
   ]
  },
  {
   "cell_type": "code",
   "execution_count": null,
   "metadata": {},
   "outputs": [],
   "source": []
  }
 ],
 "metadata": {
  "kernelspec": {
   "display_name": ".venv",
   "language": "python",
   "name": "python3"
  },
  "language_info": {
   "codemirror_mode": {
    "name": "ipython",
    "version": 3
   },
   "file_extension": ".py",
   "mimetype": "text/x-python",
   "name": "python",
   "nbconvert_exporter": "python",
   "pygments_lexer": "ipython3",
   "version": "3.11.7"
  }
 },
 "nbformat": 4,
 "nbformat_minor": 2
}
